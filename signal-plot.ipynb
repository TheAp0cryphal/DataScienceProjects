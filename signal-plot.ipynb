{
 "cells": [
  {
   "cell_type": "code",
   "execution_count": 1,
   "id": "a629b44f-0177-4865-96ec-b07b426c1c37",
   "metadata": {},
   "outputs": [],
   "source": [
    "import matplotlib.pyplot as plt\n",
    "import numpy as np\n",
    "\n",
    "N_SAMPLES = 500\n",
    "\n",
    "\n",
    "input_range = np.linspace (0, 2*np.pi, N_SAMPLES, dtype=np.float)\n",
    "\n",
    "signal = np.sin(input_range)\n",
    "\n",
    "noise = np.random.normal(0,1,N_SAMPLES)\n",
    "\n",
    "noise\n",
    "\n",
    "\n",
    "assert noise.shape == input_range.shape\n",
    "\n",
    "noisy_signal = signal + noise/5\n",
    "\n",
    "plt.plot(input_range, noisy_signal, 'b.', alpha = 0.5)\n",
    "plt.plot(input_range, signal, 'r-', linewidth=4)\n",
    "plt.legend(['Sensor Readings', 'Truth'])\n",
    "\n",
    "del signal\n",
    "\n",
    "from statsmodels.nonparametric.smoothers_lowess import lowess\n",
    "\n",
    "filtered = lowess(noisy_signal, input_range, frac =0.1)\n",
    "\n",
    "plt.plot(input_range, noisy_signal, 'b.', alpha=0.5)\n",
    "plt.plot(filtered[:, 0],filtered[:, 1], 'r-', linewidth =4)\n",
    "plt.legend(['Sensor Readings', ' Reconstructed Signal'])\n",
    "plt.show()\n",
    "\n",
    "\n"
   ]
  }
 ],
 "metadata": {
  "kernelspec": {
   "display_name": "Python 3 (ipykernel)",
   "language": "python",
   "name": "python3"
  },
  "language_info": {
   "codemirror_mode": {
    "name": "ipython",
    "version": 3
   },
   "file_extension": ".py",
   "mimetype": "text/x-python",
   "name": "python",
   "nbconvert_exporter": "python",
   "pygments_lexer": "ipython3",
   "version": "3.9.6"
  }
 },
 "nbformat": 4,
 "nbformat_minor": 5
}

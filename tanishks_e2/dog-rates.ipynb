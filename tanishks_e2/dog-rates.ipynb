{
 "cells": [
  {
   "cell_type": "code",
   "execution_count": 1,
   "id": "c12cd52b-be04-4b97-96b6-709590769653",
   "metadata": {},
   "outputs": [],
   "source": [
    "import pandas as pd"
   ]
  },
  {
   "cell_type": "code",
   "execution_count": 2,
   "id": "6853ce1d-e919-4216-9d0f-510cf397d984",
   "metadata": {},
   "outputs": [],
   "source": [
    "tweets = pd.read_csv('dog_rates_tweets.csv', parse_dates = True)\n"
   ]
  },
  {
   "cell_type": "code",
   "execution_count": 3,
   "id": "6cd32e26-53f3-4176-ac94-e900a49ddf0d",
   "metadata": {},
   "outputs": [
    {
     "data": {
      "text/html": [
       "<div>\n",
       "<style scoped>\n",
       "    .dataframe tbody tr th:only-of-type {\n",
       "        vertical-align: middle;\n",
       "    }\n",
       "\n",
       "    .dataframe tbody tr th {\n",
       "        vertical-align: top;\n",
       "    }\n",
       "\n",
       "    .dataframe thead th {\n",
       "        text-align: right;\n",
       "    }\n",
       "</style>\n",
       "<table border=\"1\" class=\"dataframe\">\n",
       "  <thead>\n",
       "    <tr style=\"text-align: right;\">\n",
       "      <th></th>\n",
       "      <th>id</th>\n",
       "      <th>created_at</th>\n",
       "      <th>text</th>\n",
       "    </tr>\n",
       "  </thead>\n",
       "  <tbody>\n",
       "    <tr>\n",
       "      <th>0</th>\n",
       "      <td>994677639364403200</td>\n",
       "      <td>2018-05-10 20:36:44</td>\n",
       "      <td>@Steff88979267 tell them to h*ck off</td>\n",
       "    </tr>\n",
       "    <tr>\n",
       "      <th>1</th>\n",
       "      <td>994364904978239488</td>\n",
       "      <td>2018-05-09 23:54:02</td>\n",
       "      <td>@NFLOwnerGBP take it back</td>\n",
       "    </tr>\n",
       "    <tr>\n",
       "      <th>2</th>\n",
       "      <td>994363623421153280</td>\n",
       "      <td>2018-05-09 23:48:56</td>\n",
       "      <td>This is Louie. He has misplaced his Cheerio. W...</td>\n",
       "    </tr>\n",
       "    <tr>\n",
       "      <th>3</th>\n",
       "      <td>994336722875047936</td>\n",
       "      <td>2018-05-09 22:02:03</td>\n",
       "      <td>@rachaellanaghan ❤️</td>\n",
       "    </tr>\n",
       "    <tr>\n",
       "      <th>4</th>\n",
       "      <td>994024065982717952</td>\n",
       "      <td>2018-05-09 01:19:40</td>\n",
       "      <td>This is Captain Jack Wobbles. He is currently ...</td>\n",
       "    </tr>\n",
       "    <tr>\n",
       "      <th>...</th>\n",
       "      <td>...</td>\n",
       "      <td>...</td>\n",
       "      <td>...</td>\n",
       "    </tr>\n",
       "    <tr>\n",
       "      <th>8510</th>\n",
       "      <td>1027980978910687233</td>\n",
       "      <td>2018-08-10 18:12:18</td>\n",
       "      <td>@GregWWoods thanks for donating $10.00 to @dog...</td>\n",
       "    </tr>\n",
       "    <tr>\n",
       "      <th>8511</th>\n",
       "      <td>1027976875811819520</td>\n",
       "      <td>2018-08-10 17:56:00</td>\n",
       "      <td>@DiannaC thanks for donating $10.00 to @dog_ra...</td>\n",
       "    </tr>\n",
       "    <tr>\n",
       "      <th>8512</th>\n",
       "      <td>1027970381766963202</td>\n",
       "      <td>2018-08-10 17:30:12</td>\n",
       "      <td>@runnjen @livelikeroo @Goodworld omg Justice y...</td>\n",
       "    </tr>\n",
       "    <tr>\n",
       "      <th>8513</th>\n",
       "      <td>1027967697684815873</td>\n",
       "      <td>2018-08-10 17:19:32</td>\n",
       "      <td>@shelbymorganart thanks for donating $10.00 to...</td>\n",
       "    </tr>\n",
       "    <tr>\n",
       "      <th>8514</th>\n",
       "      <td>1027963039029452800</td>\n",
       "      <td>2018-08-10 17:01:01</td>\n",
       "      <td>@xo_taylernicole thanks for donating to @dog_r...</td>\n",
       "    </tr>\n",
       "  </tbody>\n",
       "</table>\n",
       "<p>8515 rows × 3 columns</p>\n",
       "</div>"
      ],
      "text/plain": [
       "                       id           created_at  \\\n",
       "0      994677639364403200  2018-05-10 20:36:44   \n",
       "1      994364904978239488  2018-05-09 23:54:02   \n",
       "2      994363623421153280  2018-05-09 23:48:56   \n",
       "3      994336722875047936  2018-05-09 22:02:03   \n",
       "4      994024065982717952  2018-05-09 01:19:40   \n",
       "...                   ...                  ...   \n",
       "8510  1027980978910687233  2018-08-10 18:12:18   \n",
       "8511  1027976875811819520  2018-08-10 17:56:00   \n",
       "8512  1027970381766963202  2018-08-10 17:30:12   \n",
       "8513  1027967697684815873  2018-08-10 17:19:32   \n",
       "8514  1027963039029452800  2018-08-10 17:01:01   \n",
       "\n",
       "                                                   text  \n",
       "0                  @Steff88979267 tell them to h*ck off  \n",
       "1                             @NFLOwnerGBP take it back  \n",
       "2     This is Louie. He has misplaced his Cheerio. W...  \n",
       "3                                   @rachaellanaghan ❤️  \n",
       "4     This is Captain Jack Wobbles. He is currently ...  \n",
       "...                                                 ...  \n",
       "8510  @GregWWoods thanks for donating $10.00 to @dog...  \n",
       "8511  @DiannaC thanks for donating $10.00 to @dog_ra...  \n",
       "8512  @runnjen @livelikeroo @Goodworld omg Justice y...  \n",
       "8513  @shelbymorganart thanks for donating $10.00 to...  \n",
       "8514  @xo_taylernicole thanks for donating to @dog_r...  \n",
       "\n",
       "[8515 rows x 3 columns]"
      ]
     },
     "execution_count": 3,
     "metadata": {},
     "output_type": "execute_result"
    }
   ],
   "source": [
    "tweets"
   ]
  },
  {
   "cell_type": "code",
   "execution_count": 4,
   "id": "f11ebd3f-5192-47d5-a7cc-1b80b215583c",
   "metadata": {},
   "outputs": [],
   "source": [
    "extracted = tweets.text.str.extract(r'([0-9]{1,2}/10)', expand = False)"
   ]
  },
  {
   "cell_type": "code",
   "execution_count": 5,
   "id": "37941666-fd6b-4db2-a51b-1ee251041028",
   "metadata": {},
   "outputs": [],
   "source": [
    "ratings = extracted.dropna()"
   ]
  },
  {
   "cell_type": "code",
   "execution_count": 6,
   "id": "b98c96bf-f292-4150-9269-b5abbef756cd",
   "metadata": {},
   "outputs": [
    {
     "data": {
      "text/plain": [
       "2       14/10\n",
       "7       13/10\n",
       "8       14/10\n",
       "24      13/10\n",
       "30      13/10\n",
       "        ...  \n",
       "7363    14/10\n",
       "7369    14/10\n",
       "7381    13/10\n",
       "7431    14/10\n",
       "7433    13/10\n",
       "Name: text, Length: 1675, dtype: object"
      ]
     },
     "execution_count": 6,
     "metadata": {},
     "output_type": "execute_result"
    }
   ],
   "source": [
    "ratings"
   ]
  },
  {
   "cell_type": "code",
   "execution_count": 7,
   "id": "b5078380-f5c8-4c88-858f-e7886010273d",
   "metadata": {},
   "outputs": [],
   "source": [
    "ratings = ratings.str.replace('/10', '')"
   ]
  },
  {
   "cell_type": "code",
   "execution_count": 8,
   "id": "f005aa73-e180-48f9-8d61-921d6b3f618a",
   "metadata": {},
   "outputs": [
    {
     "data": {
      "text/plain": [
       "2       14\n",
       "7       13\n",
       "8       14\n",
       "24      13\n",
       "30      13\n",
       "        ..\n",
       "7363    14\n",
       "7369    14\n",
       "7381    13\n",
       "7431    14\n",
       "7433    13\n",
       "Name: text, Length: 1675, dtype: object"
      ]
     },
     "execution_count": 8,
     "metadata": {},
     "output_type": "execute_result"
    }
   ],
   "source": [
    "ratings"
   ]
  },
  {
   "cell_type": "code",
   "execution_count": 9,
   "id": "a784bd0e-5321-4f45-b266-a1f6483ad4ba",
   "metadata": {},
   "outputs": [],
   "source": [
    "ratings = pd.to_numeric(ratings)"
   ]
  },
  {
   "cell_type": "code",
   "execution_count": 10,
   "id": "e73165e1-6a1d-4c82-8b4d-61a35c55177d",
   "metadata": {},
   "outputs": [],
   "source": [
    "ratings = ratings [ratings <= 25]"
   ]
  },
  {
   "cell_type": "code",
   "execution_count": 11,
   "id": "c7ba8550-0060-4bbd-8a93-5d47e0942f21",
   "metadata": {},
   "outputs": [],
   "source": [
    "tweets['ratings'] = ratings"
   ]
  },
  {
   "cell_type": "code",
   "execution_count": 12,
   "id": "280ccc19-50ad-40cf-b59b-dd339dc8efbf",
   "metadata": {},
   "outputs": [],
   "source": [
    "indexing = tweets.loc[ratings.index]"
   ]
  },
  {
   "cell_type": "code",
   "execution_count": 13,
   "id": "4996eb5c-e8c2-4eab-b32a-265c14c96b0c",
   "metadata": {},
   "outputs": [],
   "source": [
    "indexing['created_at'] = pd.to_datetime(indexing['created_at'])"
   ]
  },
  {
   "cell_type": "code",
   "execution_count": 14,
   "id": "698a5960-4236-4785-9599-d113272ce56e",
   "metadata": {},
   "outputs": [
    {
     "data": {
      "text/plain": [
       "2       14.0\n",
       "7       13.0\n",
       "8       14.0\n",
       "24      13.0\n",
       "30      13.0\n",
       "        ... \n",
       "7363    14.0\n",
       "7369    14.0\n",
       "7381    13.0\n",
       "7431    14.0\n",
       "7433    13.0\n",
       "Name: ratings, Length: 1670, dtype: float64"
      ]
     },
     "execution_count": 14,
     "metadata": {},
     "output_type": "execute_result"
    }
   ],
   "source": [
    "indexing['ratings'] "
   ]
  },
  {
   "cell_type": "code",
   "execution_count": 17,
   "id": "41eb2e42-987e-4924-a3d6-07e073c19942",
   "metadata": {},
   "outputs": [],
   "source": [
    "def to_timestamp(datetime):\n",
    "    return datetime.timestamp()\n",
    "indexing['timestamp'] = indexing['created_at'].apply(to_timestamp)"
   ]
  },
  {
   "cell_type": "code",
   "execution_count": 18,
   "id": "db206f33-d96c-4dac-88b9-a0d0abf9d596",
   "metadata": {},
   "outputs": [
    {
     "data": {
      "text/html": [
       "<div>\n",
       "<style scoped>\n",
       "    .dataframe tbody tr th:only-of-type {\n",
       "        vertical-align: middle;\n",
       "    }\n",
       "\n",
       "    .dataframe tbody tr th {\n",
       "        vertical-align: top;\n",
       "    }\n",
       "\n",
       "    .dataframe thead th {\n",
       "        text-align: right;\n",
       "    }\n",
       "</style>\n",
       "<table border=\"1\" class=\"dataframe\">\n",
       "  <thead>\n",
       "    <tr style=\"text-align: right;\">\n",
       "      <th></th>\n",
       "      <th>id</th>\n",
       "      <th>created_at</th>\n",
       "      <th>text</th>\n",
       "      <th>ratings</th>\n",
       "      <th>timestamp</th>\n",
       "    </tr>\n",
       "  </thead>\n",
       "  <tbody>\n",
       "    <tr>\n",
       "      <th>2</th>\n",
       "      <td>994363623421153280</td>\n",
       "      <td>2018-05-09 23:48:56</td>\n",
       "      <td>This is Louie. He has misplaced his Cheerio. W...</td>\n",
       "      <td>14.0</td>\n",
       "      <td>1.525910e+09</td>\n",
       "    </tr>\n",
       "    <tr>\n",
       "      <th>7</th>\n",
       "      <td>993889039714578432</td>\n",
       "      <td>2018-05-08 16:23:07</td>\n",
       "      <td>This is Manny. He hasn’t seen your croissant. ...</td>\n",
       "      <td>13.0</td>\n",
       "      <td>1.525797e+09</td>\n",
       "    </tr>\n",
       "    <tr>\n",
       "      <th>8</th>\n",
       "      <td>993629544463642624</td>\n",
       "      <td>2018-05-07 23:11:58</td>\n",
       "      <td>This is Libby. She leap. 14/10\\n(IG: libbythef...</td>\n",
       "      <td>14.0</td>\n",
       "      <td>1.525735e+09</td>\n",
       "    </tr>\n",
       "    <tr>\n",
       "      <th>24</th>\n",
       "      <td>992198572664860672</td>\n",
       "      <td>2018-05-04 00:25:48</td>\n",
       "      <td>This is Rosie. She thought Coachella was this ...</td>\n",
       "      <td>13.0</td>\n",
       "      <td>1.525394e+09</td>\n",
       "    </tr>\n",
       "    <tr>\n",
       "      <th>30</th>\n",
       "      <td>991744041351090177</td>\n",
       "      <td>2018-05-02 18:19:39</td>\n",
       "      <td>This is Riley. He’ll be your chauffeur this ev...</td>\n",
       "      <td>13.0</td>\n",
       "      <td>1.525285e+09</td>\n",
       "    </tr>\n",
       "    <tr>\n",
       "      <th>...</th>\n",
       "      <td>...</td>\n",
       "      <td>...</td>\n",
       "      <td>...</td>\n",
       "      <td>...</td>\n",
       "      <td>...</td>\n",
       "    </tr>\n",
       "    <tr>\n",
       "      <th>7363</th>\n",
       "      <td>1032725635888803841</td>\n",
       "      <td>2018-08-23 20:25:53</td>\n",
       "      <td>This is Noodles. He had brain surgery earlier ...</td>\n",
       "      <td>14.0</td>\n",
       "      <td>1.535056e+09</td>\n",
       "    </tr>\n",
       "    <tr>\n",
       "      <th>7369</th>\n",
       "      <td>1032310288652152832</td>\n",
       "      <td>2018-08-22 16:55:26</td>\n",
       "      <td>This is Pingo and Nina. They are believed to b...</td>\n",
       "      <td>14.0</td>\n",
       "      <td>1.534957e+09</td>\n",
       "    </tr>\n",
       "    <tr>\n",
       "      <th>7381</th>\n",
       "      <td>1031696422813544448</td>\n",
       "      <td>2018-08-21 00:16:09</td>\n",
       "      <td>This is Nikita. She got caught in some wild fl...</td>\n",
       "      <td>13.0</td>\n",
       "      <td>1.534811e+09</td>\n",
       "    </tr>\n",
       "    <tr>\n",
       "      <th>7431</th>\n",
       "      <td>1029767403545288706</td>\n",
       "      <td>2018-08-15 16:30:55</td>\n",
       "      <td>This is Winston. He came home for the first ti...</td>\n",
       "      <td>14.0</td>\n",
       "      <td>1.534351e+09</td>\n",
       "    </tr>\n",
       "    <tr>\n",
       "      <th>7433</th>\n",
       "      <td>1029550934408486912</td>\n",
       "      <td>2018-08-15 02:10:45</td>\n",
       "      <td>RT @dog_rates: Here's a doggo realizing you ca...</td>\n",
       "      <td>13.0</td>\n",
       "      <td>1.534299e+09</td>\n",
       "    </tr>\n",
       "  </tbody>\n",
       "</table>\n",
       "<p>1670 rows × 5 columns</p>\n",
       "</div>"
      ],
      "text/plain": [
       "                       id          created_at  \\\n",
       "2      994363623421153280 2018-05-09 23:48:56   \n",
       "7      993889039714578432 2018-05-08 16:23:07   \n",
       "8      993629544463642624 2018-05-07 23:11:58   \n",
       "24     992198572664860672 2018-05-04 00:25:48   \n",
       "30     991744041351090177 2018-05-02 18:19:39   \n",
       "...                   ...                 ...   \n",
       "7363  1032725635888803841 2018-08-23 20:25:53   \n",
       "7369  1032310288652152832 2018-08-22 16:55:26   \n",
       "7381  1031696422813544448 2018-08-21 00:16:09   \n",
       "7431  1029767403545288706 2018-08-15 16:30:55   \n",
       "7433  1029550934408486912 2018-08-15 02:10:45   \n",
       "\n",
       "                                                   text  ratings     timestamp  \n",
       "2     This is Louie. He has misplaced his Cheerio. W...     14.0  1.525910e+09  \n",
       "7     This is Manny. He hasn’t seen your croissant. ...     13.0  1.525797e+09  \n",
       "8     This is Libby. She leap. 14/10\\n(IG: libbythef...     14.0  1.525735e+09  \n",
       "24    This is Rosie. She thought Coachella was this ...     13.0  1.525394e+09  \n",
       "30    This is Riley. He’ll be your chauffeur this ev...     13.0  1.525285e+09  \n",
       "...                                                 ...      ...           ...  \n",
       "7363  This is Noodles. He had brain surgery earlier ...     14.0  1.535056e+09  \n",
       "7369  This is Pingo and Nina. They are believed to b...     14.0  1.534957e+09  \n",
       "7381  This is Nikita. She got caught in some wild fl...     13.0  1.534811e+09  \n",
       "7431  This is Winston. He came home for the first ti...     14.0  1.534351e+09  \n",
       "7433  RT @dog_rates: Here's a doggo realizing you ca...     13.0  1.534299e+09  \n",
       "\n",
       "[1670 rows x 5 columns]"
      ]
     },
     "execution_count": 18,
     "metadata": {},
     "output_type": "execute_result"
    }
   ],
   "source": [
    "indexing"
   ]
  },
  {
   "cell_type": "code",
   "execution_count": 19,
   "id": "5fbde691-e65a-4c4d-ac17-cc96460cc6b0",
   "metadata": {},
   "outputs": [],
   "source": [
    "from scipy import stats"
   ]
  },
  {
   "cell_type": "code",
   "execution_count": 20,
   "id": "399e5cda-3698-49d3-8142-7551b3027bb6",
   "metadata": {},
   "outputs": [],
   "source": [
    "linearRegression = stats.linregress(indexing['timestamp'], indexing['ratings'])"
   ]
  },
  {
   "cell_type": "code",
   "execution_count": 21,
   "id": "8da33fd4-c035-4991-8d2e-5cbdc7a2b858",
   "metadata": {},
   "outputs": [
    {
     "data": {
      "text/plain": [
       "3.542250450797093e-08"
      ]
     },
     "execution_count": 21,
     "metadata": {},
     "output_type": "execute_result"
    }
   ],
   "source": [
    "linearRegression.slope"
   ]
  },
  {
   "cell_type": "code",
   "execution_count": 22,
   "id": "b1ad9541-4770-462e-9ed4-ee1c48d25938",
   "metadata": {},
   "outputs": [
    {
     "data": {
      "text/plain": [
       "-40.844202279422205"
      ]
     },
     "execution_count": 22,
     "metadata": {},
     "output_type": "execute_result"
    }
   ],
   "source": [
    "linearRegression.intercept"
   ]
  },
  {
   "cell_type": "code",
   "execution_count": 29,
   "id": "46091451-256b-45a5-afd3-0a138c05d97c",
   "metadata": {},
   "outputs": [
    {
     "data": {
      "text/plain": [
       "[<matplotlib.lines.Line2D at 0x22af50af0a0>]"
      ]
     },
     "execution_count": 29,
     "metadata": {},
     "output_type": "execute_result"
    },
    {
     "data": {
      "image/png": "[encoded data removed]",
      "text/plain": [
       "<Figure size 864x432 with 1 Axes>"
      ]
     },
     "metadata": {
      "needs_background": "light"
     },
     "output_type": "display_data"
    }
   ],
   "source": [
    "import matplotlib.pyplot as plt\n",
    "plt.figure(figsize=(12,6))\n",
    "plt.xticks(rotation = 25)\n",
    "\n",
    "plt.plot(indexing['created_at'], indexing['ratings'], 'b.', alpha = 0.5)\n",
    "plt.plot(indexing['created_at'], indexing['timestamp']*linearRegression.slope + linearRegression.intercept, 'r-', linewidth=3)"
   ]
  },
  {
   "cell_type": "code",
   "execution_count": null,
   "id": "2c880f98-ecad-41b5-b35c-75e14bcfb206",
   "metadata": {},
   "outputs": [],
   "source": []
  }
 ],
 "metadata": {
  "kernelspec": {
   "display_name": "Python 3 (ipykernel)",
   "language": "python",
   "name": "python3"
  },
  "language_info": {
   "codemirror_mode": {
    "name": "ipython",
    "version": 3
   },
   "file_extension": ".py",
   "mimetype": "text/x-python",
   "name": "python",
   "nbconvert_exporter": "python",
   "pygments_lexer": "ipython3",
   "version": "3.9.6"
  }
 },
 "nbformat": 4,
 "nbformat_minor": 5
}

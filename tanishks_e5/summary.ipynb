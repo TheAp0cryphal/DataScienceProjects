{
 "cells": [
  {
   "cell_type": "code",
   "execution_count": 21,
   "id": "318ee265-20c2-4388-8b39-c1c3d782ac27",
   "metadata": {},
   "outputs": [],
   "source": [
    "import pandas as pd\n",
    "import numpy as np\n",
    "import os"
   ]
  },
  {
   "cell_type": "code",
   "execution_count": 22,
   "id": "780e0d6b-ccce-4ffc-93c3-2915aa535ab4",
   "metadata": {},
   "outputs": [],
   "source": [
    "data = []\n",
    "xMean = []\n",
    "yMean = []\n",
    "xStd = []\n",
    "yStd = []\n",
    "Range = []\n",
    "corr = []\n",
    "\n",
    "for i in range(0,6):\n",
    "    d = pd.read_csv('data-'+str(i+1)+'.csv')    \n",
    "    data.append(d)"
   ]
  },
  {
   "cell_type": "code",
   "execution_count": 23,
   "id": "e928d12b-4cbc-4ca2-a506-fa78f0a523b3",
   "metadata": {},
   "outputs": [],
   "source": [
    "for i in range(0,6):\n",
    "    xMean.append(data[i]['x'].mean())\n",
    "    yMean.append(data[i]['y'].mean())\n",
    "    xStd.append(data[i]['x'].std())\n",
    "    yStd.append(data[i]['y'].std())\n",
    "    Range.append(str([data[i]['x'].min(),data[i]['x'].min()]))\n",
    "    corr = data[i].corr()['x']['y']\n",
    "    \n"
   ]
  },
  {
   "cell_type": "code",
   "execution_count": 24,
   "id": "953fda7e-6908-47ff-ad89-143c31f63d4f",
   "metadata": {},
   "outputs": [],
   "source": [
    "DF = pd.DataFrame(columns = [\"xMean\", \"yMean\", \"Range\", \"xStd\", \"yStd\", \"corr\"])           \n",
    "DF['xMean'] = xMean\n",
    "DF['yMean'] = yMean\n",
    "DF['Range'] = Range\n",
    "DF['xStd'] = xStd\n",
    "DF['yStd'] = yStd\n",
    "DF['corr'] = corr"
   ]
  },
  {
   "cell_type": "code",
   "execution_count": 25,
   "id": "4d89e221-053b-4fe3-aacf-2b5e6d6c99c2",
   "metadata": {},
   "outputs": [
    {
     "data": {
      "text/html": [
       "<div>\n",
       "<style scoped>\n",
       "    .dataframe tbody tr th:only-of-type {\n",
       "        vertical-align: middle;\n",
       "    }\n",
       "\n",
       "    .dataframe tbody tr th {\n",
       "        vertical-align: top;\n",
       "    }\n",
       "\n",
       "    .dataframe thead th {\n",
       "        text-align: right;\n",
       "    }\n",
       "</style>\n",
       "<table border=\"1\" class=\"dataframe\">\n",
       "  <thead>\n",
       "    <tr style=\"text-align: right;\">\n",
       "      <th></th>\n",
       "      <th>xMean</th>\n",
       "      <th>yMean</th>\n",
       "      <th>Range</th>\n",
       "      <th>xStd</th>\n",
       "      <th>yStd</th>\n",
       "      <th>corr</th>\n",
       "    </tr>\n",
       "  </thead>\n",
       "  <tbody>\n",
       "    <tr>\n",
       "      <th>0</th>\n",
       "      <td>8.717696</td>\n",
       "      <td>12.522874</td>\n",
       "      <td>[-22.635877790008944, -22.635877790008944]</td>\n",
       "      <td>12.155517</td>\n",
       "      <td>6.639964</td>\n",
       "      <td>0.935069</td>\n",
       "    </tr>\n",
       "    <tr>\n",
       "      <th>1</th>\n",
       "      <td>-0.710787</td>\n",
       "      <td>-0.748987</td>\n",
       "      <td>[-33.2711130771198, -33.2711130771198]</td>\n",
       "      <td>11.481584</td>\n",
       "      <td>6.257918</td>\n",
       "      <td>0.935069</td>\n",
       "    </tr>\n",
       "    <tr>\n",
       "      <th>2</th>\n",
       "      <td>0.968907</td>\n",
       "      <td>8.508535</td>\n",
       "      <td>[-2.4490643296742807, -2.4490643296742807]</td>\n",
       "      <td>2.235558</td>\n",
       "      <td>1.149301</td>\n",
       "      <td>0.935069</td>\n",
       "    </tr>\n",
       "    <tr>\n",
       "      <th>3</th>\n",
       "      <td>49.905086</td>\n",
       "      <td>18.553837</td>\n",
       "      <td>[0.0, 0.0]</td>\n",
       "      <td>28.508611</td>\n",
       "      <td>16.545896</td>\n",
       "      <td>0.935069</td>\n",
       "    </tr>\n",
       "    <tr>\n",
       "      <th>4</th>\n",
       "      <td>49.909994</td>\n",
       "      <td>18.555525</td>\n",
       "      <td>[4.337892453674525, 4.337892453674525]</td>\n",
       "      <td>28.500001</td>\n",
       "      <td>16.540796</td>\n",
       "      <td>0.935069</td>\n",
       "    </tr>\n",
       "    <tr>\n",
       "      <th>5</th>\n",
       "      <td>7.216155</td>\n",
       "      <td>7.602215</td>\n",
       "      <td>[-24.33382075234097, -24.33382075234097]</td>\n",
       "      <td>11.921599</td>\n",
       "      <td>11.764382</td>\n",
       "      <td>0.935069</td>\n",
       "    </tr>\n",
       "  </tbody>\n",
       "</table>\n",
       "</div>"
      ],
      "text/plain": [
       "       xMean      yMean                                       Range  \\\n",
       "0   8.717696  12.522874  [-22.635877790008944, -22.635877790008944]   \n",
       "1  -0.710787  -0.748987      [-33.2711130771198, -33.2711130771198]   \n",
       "2   0.968907   8.508535  [-2.4490643296742807, -2.4490643296742807]   \n",
       "3  49.905086  18.553837                                  [0.0, 0.0]   \n",
       "4  49.909994  18.555525      [4.337892453674525, 4.337892453674525]   \n",
       "5   7.216155   7.602215    [-24.33382075234097, -24.33382075234097]   \n",
       "\n",
       "        xStd       yStd      corr  \n",
       "0  12.155517   6.639964  0.935069  \n",
       "1  11.481584   6.257918  0.935069  \n",
       "2   2.235558   1.149301  0.935069  \n",
       "3  28.508611  16.545896  0.935069  \n",
       "4  28.500001  16.540796  0.935069  \n",
       "5  11.921599  11.764382  0.935069  "
      ]
     },
     "execution_count": 25,
     "metadata": {},
     "output_type": "execute_result"
    }
   ],
   "source": [
    "DF"
   ]
  },
  {
   "cell_type": "code",
   "execution_count": 26,
   "id": "06b723fc-cb63-4605-b327-f8d5a0f09800",
   "metadata": {},
   "outputs": [],
   "source": [
    "outfile = \"summary.txt\""
   ]
  },
  {
   "cell_type": "code",
   "execution_count": 27,
   "id": "63298a28-6db0-4127-9328-55293d62e605",
   "metadata": {},
   "outputs": [],
   "source": [
    "with open(os.path.join(outfile), 'w') as file:\n",
    "    DF.to_string(file)"
   ]
  },
  {
   "cell_type": "code",
   "execution_count": null,
   "id": "73af22a4-8fab-480f-80b4-fbd57356c443",
   "metadata": {},
   "outputs": [],
   "source": []
  }
 ],
 "metadata": {
  "kernelspec": {
   "display_name": "Python 3 (ipykernel)",
   "language": "python",
   "name": "python3"
  },
  "language_info": {
   "codemirror_mode": {
    "name": "ipython",
    "version": 3
   },
   "file_extension": ".py",
   "mimetype": "text/x-python",
   "name": "python",
   "nbconvert_exporter": "python",
   "pygments_lexer": "ipython3",
   "version": "3.9.6"
  }
 },
 "nbformat": 4,
 "nbformat_minor": 5
}
